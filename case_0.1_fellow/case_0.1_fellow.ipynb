{
 "cells": [
  {
   "cell_type": "markdown",
   "id": "024a2926",
   "metadata": {},
   "source": [
    "# Welcome to the wonderful world of data!"
   ]
  },
  {
   "cell_type": "markdown",
   "id": "a9a4dc44",
   "metadata": {},
   "source": [
    "## Introduction\n",
    "\n",
    "There have been astronomical advances in computing power and device interconnectivity over the past few decades. It has reached the point where we can harness the power of a vast quantity of data to make better decisions, faster. Over the last 5 years or so, the field of work dedicated to doing all that’s needed to make this happen has become what is now known as **data science**.\n",
    "\n",
    "Data science is booming at the moment, with many opportunities for innovation and job placement across industries. But who exactly is a \"Data Scientist\"? What do they do in day-to-day life? What tools do they use?\n",
    "\n",
    "### \"Data science\" is a misnomer\n",
    "\n",
    "First things first - *<b>the VAST majority of jobs that leverage data skills are NOT \"Data Scientist\" jobs</b>*. This means that the term \"data science\" is a misnomer. Job families such as \"Data Analyst\", \"Data Engineer\", and \"Business Intelligence Analyst\" (among others) command an order of magnitude more job openings than \"Data Scientist\" while still leveraging data skills to a considerable extent. In fact, a large number of \"Data Scientist\" jobs are misclassified and would fit better under one of the other three job families mentioned above.\n",
    "\n",
    "Regardless, all of these jobs fall under the general umbrella of **data professionals**. A data professional is someone who combines knowledge across 3 main disciplines in some combination (the exact combination will depend on the job family):\n",
    "\n",
    "* **Math & Statistics (mainly statistics).** From here we need the skills of analysis & modeling, which is the art of deducing and representing things about the world using logical principles. Assorted mathematical knowledge is sometimes necessary or very helpful here.\n",
    "* **Computer Science.** From here we need the skill of coding or programming, which is the practice of writing instructions which a computer can understand to bring our analysis & modeling to life.\n",
    "* **Business Expertise.** We need this in order to guide our analysis & modeling and to correctly act on the results of it.\n",
    "\n",
    "![Venn](data/images/venn.png)"
   ]
  },
  {
   "cell_type": "markdown",
   "id": "3a224db5",
   "metadata": {},
   "source": [
    "## Tools of a data professional\n",
    "\n",
    "The cases in the pre-foundational program will guide you through the very basics of the Computer Science discipline. By the end of these four weeks, you should be able to create a basic program from end to end using the Python programming language.\n",
    "\n",
    "After the pre-foundational program, you will continue to build on these Computer Science skills, and will learn much more about the Math & Statistics discipline. Business & Domain Expertise can only be gained though experience and study of specific problems, so for that you must count on your own motivation and curiosity!\n",
    "\n",
    "Let's begin with the very basic Computer Science tools of a data professional."
   ]
  },
  {
   "cell_type": "markdown",
   "id": "d02f2a65",
   "metadata": {},
   "source": [
    "### The programming language\n",
    "\n",
    "In order to code something for our computer to do, we must communicate with it in a language that both we and the computer can understand. This common language is known as a **programming language**. A programming language translates instructions readable by a human into instructions readable by the computer, which is commonly known as **machine code**.\n",
    "\n",
    "Programming languages have some things in common with languages like English or Spanish. For example (and this is very important!) they are (or really should be) understandable by humans. Similar to English or Spanish, they have rules on how they should be used (i.e. spelling, grammar, syntax).\n",
    "\n",
    "However, programming languages are much more strict in enforcing these rules than human languages are. If the rules of a programming language are not followed exactly, your program won’t **compile**, which means that the computer was not able to translate your instructions into machine code. On the flip side, the fact that they are strict makes it easier for a group of people to read and work on code together (a huge boon as great things are often created by teams), and makes what the code does unambiguous.\n",
    "\n",
    "There are many, many programming languages, but for this program and for most data work out there, there is one king above all...\n",
    "\n",
    "### Enter Python\n",
    "\n",
    "The programming language of choice for data work today is **Python**. (There are others such as R, Scala, or Julia, but they are far, far behind in market share and in the amount of functionality they offer for data work.)\n",
    "\n",
    "![Python](data/images/python.png)\n",
    "\n",
    "Python is great for 3 important reasons:\n",
    "\n",
    "* It is easy to learn\n",
    "* It is easy to read (many other programming languages are not!)\n",
    "* It is **open-source**, which means that it is free to use and even better - that other people in the Python community constantly add more functionality to the language for free!\n",
    "\n",
    "When you are going to code a program, you almost never start from scratch - you usually use code that was built by someone else beforehand that does a certain thing. For example, if I want to write a program that analyzes data and needs to find the average of a set of numbers, I don’t need to write the code that finds the average myself! Since it is a common problem, it’s likely that someone else already created code specifically for that purpose. I can then download that functionality from the Internet, import it into my program, and use it without much hassle. \n",
    "\n",
    "Such functionalities written by other people and usable by anyone in a language are called **libraries** or **packages**. Python has libraries for anything you can think of. For the previous example, there’s the `numpy` library, which contains functionality for numerous math-heavy computations. You want something for interacting with Excel files? You can use `openpyxl`. Images? You have `Pillow`. There is something for everything - at the moment there are over 200,000 Python packages publicly available."
   ]
  },
  {
   "cell_type": "markdown",
   "id": "afe889cf",
   "metadata": {},
   "source": [
    "### The IDE\n",
    "\n",
    "You might have noticed that the file you are currently reading lives inside a \"container\" called **Jupyter**. What's the big deal with Jupyter?\n",
    "\n",
    "To understand this, we must first understand what an **Integrated Development Environment (IDE)** is. An IDE is the main tool you’ll be looking at when writing code. Code files are actually nothing more than text files, and could just as well be written in Microsoft Word, Notepad, or any other text editor. But none of those basic text editors provide other essential coding functionalities, like checking if you wrote a keyword in the wrong location, or allowing you to actually run your code immediately to test if it works.\n",
    "\n",
    "This means that IDEs are essentially text editors on steroids, with functionality that greatly assist the coding process. One of the most popular ones for Python and data work is Jupyter because it does something almost no other IDE allows - it lets you write and run code alongside standard text (similar to combining a Word document with a code file)!\n",
    "\n",
    "### Jupyter\n",
    "\n",
    "This ability is what makes Jupyter very special for prototyping projects, testing solutions and creating deliverables that include not only code but also graphs and text and explanations. Remember when we said that performing data analysis required not only coding, but also leveraging domain knowledge? One, if not the most important, part of data analysis is explaining your results to others, and Jupyter makes this very easy.\n",
    "\n",
    "It does this through a file format called a **Jupyter notebook**. That's the kind of file you're looking at right now! To create a Jupyter notebook file, start from the Jupyter File Explorer which popped up immediately after you launched it. Navigate to the folder you want to create your new file in, and click on the \"New\" button in the upper-right and then select \"Python 3\":\n",
    "\n",
    "![Creating New Files](data/images/new_notebook.png)\n",
    "\n",
    "This will create a new, empty notebook file. Go ahead and create one with any name you want. The newly created file will automatically open up in your browser as well."
   ]
  },
  {
   "cell_type": "markdown",
   "id": "6f6434ee",
   "metadata": {},
   "source": [
    "## Cells"
   ]
  },
  {
   "cell_type": "markdown",
   "id": "61c4cc86",
   "metadata": {},
   "source": [
    "You will be seeing a mostly empty screen, with one line that says `In [ ]:`. This line is known as a code cell:\n",
    "\n",
    "![Empty File](data/images/empty.png)\n",
    "\n",
    "Jupyter Notebooks have a building block called a **cell**. Cells can be one of several types, but the two most important ones are **code cells** and **Markdown cells**. Code cells, like the one you have in your empty file, let you write and run code in the notebook. Markdown cells, like the one you are reading right now, let you place formatted text (and other non-code elements, like the image above) in the notebook.\n",
    "\n",
    "Below you will find a code cell that calculates the sum of two numbers and prints the result to the screen. While Markdown cells only have text, code cells have 2 parts. The first part shows the code itself, and the second part shows what the code prints out after running it (click the code block below and then hit `Ctrl+Enter`on your keyboard):"
   ]
  },
  {
   "cell_type": "code",
   "execution_count": null,
   "id": "07799395",
   "metadata": {},
   "outputs": [],
   "source": [
    "result = 3 + 4\n",
    "print(f\"The result of 3 plus 4 is {result}\")"
   ]
  },
  {
   "cell_type": "markdown",
   "id": "aa8784ff",
   "metadata": {},
   "source": [
    "One cool thing about code cells is that you can edit them and run them again right away without hassle. For example, try changing the value 3 to 5 in the code cell above, and then press `Ctrl+Enter` to run it. The text below it should change accordingly!"
   ]
  },
  {
   "cell_type": "markdown",
   "id": "bb2cff22",
   "metadata": {},
   "source": [
    "### Editing and creating cells\n",
    "\n",
    "You can readily convert a code cell to a Markdown cell, and vice versa. The paragraph below the following image contains some code, but it is sitting in a Markdown cell so the code won't run. In order to change it to a code cell, just double click on it and in the drop-down menu at the top, change the option from Markdown to Code. Then press `Ctrl+Enter` to run it."
   ]
  },
  {
   "cell_type": "markdown",
   "id": "16f38bc4",
   "metadata": {},
   "source": [
    "![Change Cell Type](data/images/changeCell.jpg)"
   ]
  },
  {
   "cell_type": "markdown",
   "id": "8a31fdaa",
   "metadata": {},
   "source": [
    "text1 = 'This is a Code Cell '\n",
    "\n",
    "text2 = 'and Jupyter Notebooks are amazing!'\n",
    "\n",
    "finalText = text1+text2\n",
    "\n",
    "print(finalText)"
   ]
  },
  {
   "cell_type": "markdown",
   "id": "c96db2b7",
   "metadata": {},
   "source": [
    "You should now be able to see text below the code cell showing a complete phrase. You can go ahead and edit the components of the phrase to make the code print something different!\n",
    "\n",
    "You can also create and delete cells - in the toolbar at the top left, there is a \"+\" sign and a scissors sign. The \"+\" sign creates a new cell immediately below the cell which you have currently selected, and the scissors sign deletes the cell which you have currently selected.\n",
    "\n",
    "There are many other useful buttons in the top toolbar - such as copy, paste, or reorder cells. All of these actions have a corresponding keyboard shortcut. By far, the most important shortcut is `Ctrl+S`, which saves your work. Make sure you use it often! For a full list of shortcuts, go [here](https://towardsdatascience.com/jypyter-notebook-shortcuts-bf0101a98330). \n",
    "\n",
    "Some of the most useful shortcuts include:\n",
    "* `b` - create a new cell below the current cell\n",
    "* `a` - create a new cell above the current cell\n",
    "* `c` - copy the current cell\n",
    "* `p` - paste a copied cell\n",
    "* `dd` - delete the current cell\n",
    "* `m` - turn the current cell into a markdown cell\n",
    "* `y` - turn the current cell into a code cell\n",
    "\n",
    "Note: You need to press the escape key before using these shortcuts."
   ]
  },
  {
   "cell_type": "markdown",
   "id": "e454a20a",
   "metadata": {},
   "source": [
    "### Formatting Markdown cells\n",
    "\n",
    "Markdown cells can be formatted to look prettier and more understandable. Markdown is not exclusive to Jupyter Notebooks - in fact it is used in some form for a lot of the text you see on webpages!\n",
    "\n",
    "There are many ways to format your text. For example, the titles in this notebook are each formatted to give them their emphasis and size - you can double click on them to check! To see all of the formatting options at your disposal, check out this [cheat sheet](https://www.markdownguide.org/cheat-sheet/)."
   ]
  },
  {
   "cell_type": "markdown",
   "id": "701a4ab8",
   "metadata": {},
   "source": [
    "### Controlling the execution of code cells\n",
    "\n",
    "There are four other buttons in the main menu that we want to call out. \"Run\" runs the code in the current cell, which is pretty straightforward (`Ctrl+Enter` also runs the current cell).\n",
    "\n",
    "The black square button is a \"Stop\" sign and interrupts the **kernel** (think of the kernel as the \"engine\" that runs your code in the Jupyter environment). What this means is that it interrupts any code execution that may be going on at the moment. It's important to know this button exists, because sometimes you may write a program that gets stuck and takes much longer than expected or is clearly doing something entirely different from what you expected. In that case, you can stop your code prematurely with this button.\n",
    "\n",
    "The circular arrow button restarts the kernel. This is a more extreme version of stopping the kernel. When you run code, the kernel saves your results and variables as you work. When you stop it, those variables are still there. But when you restart it, all the variables are lost and you go back to a blank slate. Sometimes stopping the kernel is not enough to resolve certain issues, so it becomes necessary to restart it altogether.\n",
    "\n",
    "The last button with the 2 arrows facing forward runs all cells in the notebook sequentially. After some time, there will be many cells in your notebook, and you don't want to go through and run each one manually. This button allows you run everything in one click!"
   ]
  },
  {
   "cell_type": "markdown",
   "id": "a675d0ef",
   "metadata": {},
   "source": [
    "## The Terminal\n",
    "\n",
    "The last basic tool of the trade is the **Terminal** on your computer. This is a scary place for some, but fret not. Over time you will see that the Terminal is not only your friend but your greatest ally in swiftly making things happen.\n",
    "\n",
    "A Terminal is what computers had before Microsoft and Apple popularized **Graphical User Interfaces (GUIs)** and computer mice. Back then, you would type your commands directly to the computer instead of clicking buttons. So, if you wanted to open the MS-DOS editor (the precursor to Microsoft Word), you would type \"edit\" and hit `Enter`. Dark times indeed.\n",
    "\n",
    "To open your Terminal, look for it in your machine's menu or type it into its search bar. Once you have your Terminal open, you will see a window with some text and a blinking cursor. This is where you type commands to your computer. It looks a little different for each operating system - here are some examples for Windows, macOS, and Linux (in order):\n",
    "\n",
    "![Windows](data/images/windows.png)\n",
    "![Mac](data/images/mac.png)\n",
    "![Linux](data/images/linux.png)\n",
    "\n",
    "Each operating systems' Terminal has its own quirks (that is, they each interpret inputs a little differently). For our case we will be using the Terminal built into JupyterHub. This terminal is an [Ubuntu](https://ubuntu.com/) terminal.\n",
    "\n",
    "Opening a Terminal in Jupyter is very similar to opening a new notebook. Click the \"New\" button again and under \"Other:\" click \"Terminal\".\n",
    "![Creating New Files](data/images/new_terminal.png)\n",
    "\n",
    "Once the Jupyter Terminal opens, you should see something like this:\n",
    "\n",
    "![jupyter_terminal.png](data/images/jupyter_terminal.png)"
   ]
  },
  {
   "cell_type": "markdown",
   "id": "cac25ea3",
   "metadata": {},
   "source": [
    "### Basic properties and functionality\n",
    "\n",
    "The world in your Terminal is a bit different than the one outside of it. The most important difference is that `Ctrl+C` and `Ctrl+V` no longer copy and paste! Inside your Terminal, `Ctrl+C` actually (C)ancels the current running program. If you want to copy or paste information from the Jupyter Terminal, you have to use `Ctrl+Insert` (or `Cmd+C` for macOS) to copy and `Shift+Insert` (or `Cmd+V` for macOS) to paste. When in doubt, you can always right-click to make the copy and pasting options appear.\n",
    "\n",
    "There is also some terminology that is important: (1), when something shows up in the terminal, we say that it *prints* in the Terminal; (2) what we usually call folders (where you group files together) is now referred to as *directories*; (3) your current working directory is the directory in which you are currently located; and (4) if you write a command in the Terminal and then write something after that command, that something after is called the command’s *parameters*.\n",
    "\n",
    "Now, we will use some of the most basic commands in order to run a simple Python script from our case directory.\n",
    "\n",
    "1. **pwd**: The first command we will learn is the `pwd` command. This stands for \"Print Working Directory\" and it shows the exact path to your current working directory. In JupyterHub, you should start in the `/home/jovyan` directory. This directory is the `home` directory of the user `jovyan` which is the default user in JupyterHub:\n",
    "\n",
    "![pwd](data/images/pwd.png)\n",
    "\n",
    "2. **ls**: The `ls` command (which stands for \"List\") allows us to list the contents of the current working directory. This allows us to see if a file we want to run is actually located in our current working directory, or to tell us the name of a folder inside our current working directory that we want to then navigate to. In Jupyter, you should see the same files as you do in the Jupyter File Explorer:\n",
    "\n",
    "![ls](data/images/ls.png)\n",
    "\n",
    "3. **cd**: The `cd` command (which stands for \"Change Directory\") allows you to navigate around your computer's folders. For example, we can go into the `case_0.1_fellow` directory by running `cd case_0.1_fellow`. If we then list the contents of our `case_0.1_fellow` directory, we should see the contents of this case:\n",
    "\n",
    "![cd](data/images/cd.png)\n",
    "\n",
    "![gui_ls](data/images/gui_ls.png)"
   ]
  },
  {
   "cell_type": "markdown",
   "id": "8304da88",
   "metadata": {},
   "source": [
    "## Exercise 1\n",
    "\n",
    "Using these 3 tools, we can navigate to any directory inside JupyterHub. Inside the Terminal, use the `pwd`, `cd`, and `ls` commands to navigate into the `data` directory of `case_0.1_fellow` and find the file `my_first_program.py`. Once you are there, run the command `python my_first_program.py`. This will run the Python script named `my_first_program.py` (which should print \"Hello World!\"):"
   ]
  },
  {
   "cell_type": "markdown",
   "id": "ad2a8631",
   "metadata": {
    "tags": [
     "ans_st"
    ]
   },
   "source": [
    "**Answer.**"
   ]
  },
  {
   "cell_type": "markdown",
   "id": "69456b0b",
   "metadata": {},
   "source": [
    "-------"
   ]
  },
  {
   "cell_type": "markdown",
   "id": "cc847e2b",
   "metadata": {},
   "source": [
    "Now, in this exercise you've gone deep into your directories; what should you do if you want to go back? To navigate one directory back, you can use the parameter `..` for the `cd` command. This tells your Terminal to go one directory back:\n",
    "\n",
    "![cd_back](data/images/cd_back.png)\n",
    "\n",
    "Note that all of the above commands work on Unix (that is, Linux, macOS, Jupyter, and some others), NOT on Windows. So if you are a Windows user and you want to play around with these commands on your own computer's Terminal, you will have to [Google the Windows equivalent commands](https://www.lemoda.net/windows/windows2unix/windows2unix.html)."
   ]
  },
  {
   "cell_type": "markdown",
   "id": "796d91ad",
   "metadata": {},
   "source": [
    "## Conclusion\n",
    "\n",
    "In this case you learnt what it means to be a data professional, the tools we need from computer science to be an effective data professional, and what a programming language and an IDE are.\n",
    "\n",
    "You also learned the basics of how to open, create, and edit Jupyter Notebook files, and saw your very first snippets of code. You also learned how to interact with the Terminal.\n",
    "\n",
    "In the coming weeks you may occasionally get frustrated. This is normal. Learning to code is anything but trivial, even if it is Python. But this is a rewarding path, both personally and financially. In no time you will be realizing the great doors that programming can open for you as a professional and as a human being. \n",
    "\n",
    "And if you ever feel lost, please do go to your TAs, instructors, and other fellows. We pride ourselves on being open to teaching and helping anyone who needs a push to get to the next step. Soon enough, it will be you who is teaching others."
   ]
  },
  {
   "cell_type": "code",
   "execution_count": null,
   "id": "6a4a8b4f",
   "metadata": {},
   "outputs": [],
   "source": []
  }
 ],
 "metadata": {
  "kernelspec": {
   "display_name": "Python 3",
   "language": "python",
   "name": "python3"
  },
  "language_info": {
   "codemirror_mode": {
    "name": "ipython",
    "version": 3
   },
   "file_extension": ".py",
   "mimetype": "text/x-python",
   "name": "python",
   "nbconvert_exporter": "python",
   "pygments_lexer": "ipython3",
   "version": "3.8.8"
  }
 },
 "nbformat": 4,
 "nbformat_minor": 5
}
